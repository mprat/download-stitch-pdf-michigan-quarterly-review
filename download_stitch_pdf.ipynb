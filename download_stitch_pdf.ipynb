{
 "metadata": {
  "name": ""
 },
 "nbformat": 3,
 "nbformat_minor": 0,
 "worksheets": [
  {
   "cells": [
    {
     "cell_type": "code",
     "collapsed": false,
     "input": [
      "import requests\n",
      "from bs4 import BeautifulSoup\n",
      "prefix = 'http://quod.lib.umich.edu'"
     ],
     "language": "python",
     "metadata": {},
     "outputs": [],
     "prompt_number": 1
    },
    {
     "cell_type": "code",
     "collapsed": false,
     "input": [
      "def next_button_filter(tag): \n",
      "    return (len(tag.contents) == 1 and tag.contents[0].name == 'img' and tag.img.get('alt') == 'Next Page')"
     ],
     "language": "python",
     "metadata": {},
     "outputs": [],
     "prompt_number": 55
    },
    {
     "cell_type": "code",
     "collapsed": false,
     "input": [
      "def get_article_title(soup):\n",
      "    return soup.find('span', 'articletitle').string"
     ],
     "language": "python",
     "metadata": {},
     "outputs": [],
     "prompt_number": 84
    },
    {
     "cell_type": "code",
     "collapsed": false,
     "input": [
      "nextlink = 'http://quod.lib.umich.edu/m/mqrarchive/act2080.0031.004/120?view=pdf&size=100'\n",
      "r = requests.get(nextlink)\n",
      "soup = BeautifulSoup(r.text)\n",
      "orig_title = get_article_title(soup)\n",
      "filename = orig_title.lower().replace(\":\", \"\").replace(\"/\", \"\").replace(\" \", \"-\")\n",
      "print \"Article title: \", orig_title\n",
      "counter = 1\n",
      "numpages = 1\n",
      "\n",
      "while (nextlink):\n",
      "    r = requests.get(nextlink)\n",
      "    soup = BeautifulSoup(r.text)\n",
      "    title = get_article_title(soup)\n",
      "    if (title == orig_title):\n",
      "        print \"Adding page \", counter\n",
      "        pdflink = prefix + soup.find_all('a')[-1].get('href')\n",
      "        pdflinkresp = requests.get(pdflink)\n",
      "        \n",
      "        with open(str(counter) + '.pdf', 'wb') as fo: \n",
      "                fo.write(pdflinkresp.content)\n",
      "        \n",
      "        pot_next_btns = soup.find_all(next_button_filter)\n",
      "        nextlink = \"\"\n",
      "        if len(pot_next_btns) == 1:\n",
      "            nextlink = pot_next_btns[0].get('href')\n",
      "        counter += 1\n",
      "    else: \n",
      "        numpages = counter - 1\n",
      "        print \"Done\"\n",
      "        break"
     ],
     "language": "python",
     "metadata": {},
     "outputs": [
      {
       "output_type": "stream",
       "stream": "stdout",
       "text": [
        "Article title:  Seeing Double: Palestinian/ American Histories of the Kufiya\n",
        "Adding page "
       ]
      },
      {
       "output_type": "stream",
       "stream": "stdout",
       "text": [
        " 1\n",
        "Adding page "
       ]
      },
      {
       "output_type": "stream",
       "stream": "stdout",
       "text": [
        " 2\n",
        "Adding page "
       ]
      },
      {
       "output_type": "stream",
       "stream": "stdout",
       "text": [
        " 3\n",
        "Adding page "
       ]
      },
      {
       "output_type": "stream",
       "stream": "stdout",
       "text": [
        " 4\n",
        "Adding page "
       ]
      },
      {
       "output_type": "stream",
       "stream": "stdout",
       "text": [
        " 5\n",
        "Adding page "
       ]
      },
      {
       "output_type": "stream",
       "stream": "stdout",
       "text": [
        " 6\n",
        "Adding page "
       ]
      },
      {
       "output_type": "stream",
       "stream": "stdout",
       "text": [
        " 7\n",
        "Adding page "
       ]
      },
      {
       "output_type": "stream",
       "stream": "stdout",
       "text": [
        " 8\n",
        "Adding page "
       ]
      },
      {
       "output_type": "stream",
       "stream": "stdout",
       "text": [
        " 9\n",
        "Adding page "
       ]
      },
      {
       "output_type": "stream",
       "stream": "stdout",
       "text": [
        " 10\n",
        "Adding page "
       ]
      },
      {
       "output_type": "stream",
       "stream": "stdout",
       "text": [
        " 11\n",
        "Adding page "
       ]
      },
      {
       "output_type": "stream",
       "stream": "stdout",
       "text": [
        " 12\n",
        "Adding page "
       ]
      },
      {
       "output_type": "stream",
       "stream": "stdout",
       "text": [
        " 13\n",
        "Adding page "
       ]
      },
      {
       "output_type": "stream",
       "stream": "stdout",
       "text": [
        " 14\n",
        "Adding page "
       ]
      },
      {
       "output_type": "stream",
       "stream": "stdout",
       "text": [
        " 15\n",
        "Adding page "
       ]
      },
      {
       "output_type": "stream",
       "stream": "stdout",
       "text": [
        " 16\n",
        "Adding page "
       ]
      },
      {
       "output_type": "stream",
       "stream": "stdout",
       "text": [
        " 17\n",
        "Adding page "
       ]
      },
      {
       "output_type": "stream",
       "stream": "stdout",
       "text": [
        " 18\n",
        "Adding page "
       ]
      },
      {
       "output_type": "stream",
       "stream": "stdout",
       "text": [
        " 19\n",
        "Adding page "
       ]
      },
      {
       "output_type": "stream",
       "stream": "stdout",
       "text": [
        " 20\n",
        "Adding page "
       ]
      },
      {
       "output_type": "stream",
       "stream": "stdout",
       "text": [
        " 21\n",
        "Adding page "
       ]
      },
      {
       "output_type": "stream",
       "stream": "stdout",
       "text": [
        " 22\n",
        "Done"
       ]
      },
      {
       "output_type": "stream",
       "stream": "stdout",
       "text": [
        "\n"
       ]
      }
     ],
     "prompt_number": 108
    },
    {
     "cell_type": "code",
     "collapsed": false,
     "input": [
      "from PyPDF2 import PdfFileMerger, PdfFileReader\n",
      "\n",
      "merger = PdfFileMerger()\n",
      "counter = 1\n",
      "output = open(filename + \".pdf\", \"wb\")\n",
      "\n",
      "while (counter <= numpages):\n",
      "    merger.append(PdfFileReader(file(str(counter)+'.pdf', 'rb')))\n",
      "    counter += 1\n",
      "\n",
      "merger.write(output)\n",
      "output.close()"
     ],
     "language": "python",
     "metadata": {},
     "outputs": [],
     "prompt_number": 139
    }
   ],
   "metadata": {}
  }
 ]
}